{
 "metadata": {
  "celltoolbar": "Slideshow",
  "name": "",
  "signature": "sha256:d941cc96a010b3aaa3bec568aec371082b7637f1746a8caff0b7deef2c473f18"
 },
 "nbformat": 3,
 "nbformat_minor": 0,
 "worksheets": [
  {
   "cells": [
    {
     "cell_type": "markdown",
     "metadata": {
      "slideshow": {
       "slide_type": "slide"
      }
     },
     "source": [
      "<h1 class=\"title\">Butterfly as Linear Algebra</h1>"
     ]
    },
    {
     "cell_type": "markdown",
     "metadata": {},
     "source": [
      "<center>\n",
      "\n",
      "<h2>Danny Hermes (<a href=\"https://github.com/dhermes/\">dhermes</a>)</h2>\n",
      "\n",
      "<div>\n",
      "  <img class=\"logo\" src=\"files/images/ucseal.png\" height=\"100px\" />\n",
      "</div>\n",
      "\n",
      "<h3>November 25, 2014</h3>\n",
      "</center>"
     ]
    },
    {
     "cell_type": "markdown",
     "metadata": {
      "slideshow": {
       "slide_type": "slide"
      }
     },
     "source": [
      "<h1 class=\"bigtitle\">Introduction</h1>"
     ]
    },
    {
     "cell_type": "heading",
     "level": 1,
     "metadata": {
      "slideshow": {
       "slide_type": "slide"
      }
     },
     "source": [
      "Motivation"
     ]
    },
    {
     "cell_type": "markdown",
     "metadata": {},
     "source": [
      "We want to compute\n",
      "$$\\widehat{f_k} = \\sum_{j = 0}^{N - 1} e^{t_k s_j} f_j$$\n",
      "for $0 \\leq k < N$ and $t_k, s_j \\in \\mathbf{R}$."
     ]
    },
    {
     "cell_type": "code",
     "collapsed": false,
     "input": [
      "import numpy as np\n",
      "\n",
      "\n",
      "def compute_f_hat(f, t, s):\n",
      "    N, = f.shape\n",
      "    if t.shape != (N,) or s.shape != (N,):\n",
      "        raise ValueError('Expect f, t, s to be same size and 1D.')\n",
      "\n",
      "    f_hat = np.zeros(N, dtype=np.complex128)\n",
      "    for k in xrange(N):\n",
      "        # Compute (f_hat)_k. Vectorized update.\n",
      "        f_hat[k] = np.sum(np.exp(t[k] * s) * f)\n",
      "\n",
      "    return f_hat"
     ],
     "language": "python",
     "metadata": {
      "slideshow": {
       "slide_type": "slide"
      }
     },
     "outputs": [],
     "prompt_number": 1
    },
    {
     "cell_type": "markdown",
     "metadata": {
      "slideshow": {
       "slide_type": "-"
      }
     },
     "source": [
      "## Naive gets Quadratic\n",
      "\n",
      "We see that in the most naive implementation that the runtime is quadratic."
     ]
    },
    {
     "cell_type": "code",
     "collapsed": false,
     "input": [
      "import time\n",
      "\n",
      "\n",
      "def butterfly_runtime(exp, num_runs=3):\n",
      "    # Run with random data `num_runs` times and average.\n",
      "    N = 1 << exp\n",
      "\n",
      "    run_times = []\n",
      "    for _ in xrange(num_runs):\n",
      "        f = np.random.random(N)\n",
      "        t = np.random.random(N)\n",
      "        s = np.random.random(N)\n",
      "        start = time.time()\n",
      "        compute_f_hat(f, t, s)\n",
      "        run_times.append(time.time() - start)\n",
      "        \n",
      "    return N, np.mean(run_times)"
     ],
     "language": "python",
     "metadata": {
      "slideshow": {
       "slide_type": "slide"
      }
     },
     "outputs": [],
     "prompt_number": 2
    },
    {
     "cell_type": "code",
     "collapsed": false,
     "input": [
      "%matplotlib inline\n",
      "\n",
      "from matplotlib import pyplot as plt\n",
      "\n",
      "\n",
      "N_vals = []\n",
      "avg_run_vals = []\n",
      "for exp in xrange(5, 12 + 1):\n",
      "    N, avg_time = butterfly_runtime(exp)\n",
      "    N_vals.append(N)\n",
      "    avg_run_vals.append(avg_time)\n",
      "\n",
      "\n",
      "plt.loglog(N_vals, avg_run_vals, basex=2)\n",
      "plt.axis('scaled')\n",
      "plt.show()"
     ],
     "language": "python",
     "metadata": {
      "slideshow": {
       "slide_type": "slide"
      }
     },
     "outputs": [
      {
       "metadata": {},
       "output_type": "display_data",
       "png": "[encoded data removed]",
       "text": [
        "<matplotlib.figure.Figure at 0x7fb4481c8d10>"
       ]
      }
     ],
     "prompt_number": 3
    },
    {
     "cell_type": "code",
     "collapsed": false,
     "input": [
      "from IPython import display\n",
      "\n",
      "slope, _ = np.polyfit(np.log2(N_vals), np.log2(avg_run_vals), deg=1)\n",
      "display.display(display.Math(r'\\text{Approximate exponent: } \\\\ %s' % (slope,)))"
     ],
     "language": "python",
     "metadata": {
      "slideshow": {
       "slide_type": "slide"
      }
     },
     "outputs": [
      {
       "latex": [
        "$$\\text{Approximate exponent: } \\\\ 1.4753297279$$"
       ],
       "metadata": {},
       "output_type": "display_data",
       "text": [
        "<IPython.core.display.Math at 0x7fb4481a9550>"
       ]
      }
     ],
     "prompt_number": 4
    },
    {
     "cell_type": "markdown",
     "metadata": {
      "slideshow": {
       "slide_type": "slide"
      }
     },
     "source": [
      "## Close Relative\n",
      "\n",
      "By letting $t_k = - 2 \\pi k \\sqrt{-1}$ and $s_j = \\frac{j}{N}$, we get the Fast Fourier Transform:\n",
      "$$\\widehat{f_k} = \\sum_{j = 0}^{N - 1} \\text{exp}\\left(- \\frac{2 \\pi k j \\sqrt{-1}}{N}\\right) f_j$$"
     ]
    },
    {
     "cell_type": "code",
     "collapsed": false,
     "input": [
      "# http://www.mathworks.com/help/matlab/math/fast-fourier-transform-fft.html\n",
      "data = np.load('bluewhale.npz')\n",
      "X = data['X']\n",
      "sampling_rate = int(data['rate'])\n",
      "\n",
      "plt.plot(X)\n",
      "plt.xlabel('Sample Number')\n",
      "plt.ylabel('Amplitude')\n",
      "\n",
      "plt.title('Blue Whale Call')\n",
      "plt.show()"
     ],
     "language": "python",
     "metadata": {
      "slideshow": {
       "slide_type": "slide"
      }
     },
     "outputs": [
      {
       "metadata": {},
       "output_type": "display_data",
       "png": "[encoded data removed]",
       "text": [
        "<matplotlib.figure.Figure at 0x7fb4481c8ad0>"
       ]
      }
     ],
     "prompt_number": 5
    },
    {
     "cell_type": "code",
     "collapsed": false,
     "input": [
      "blue_whale_begin = 24500 - 1\n",
      "blue_whale_end = 31000 - 1\n",
      "\n",
      "blue_whale_call = X[blue_whale_begin:blue_whale_end + 1]\n",
      "size_call = len(blue_whale_call)\n",
      "\n",
      "time_base = np.arange(size_call) * 10.0 / sampling_rate\n",
      "plt.plot(time_base, blue_whale_call)\n",
      "plt.title('Blue Whale B Call')\n",
      "plt.xlim((time_base[0], time_base[-1]))\n",
      "plt.xlabel('Time (seconds)')\n",
      "plt.ylabel('Amplitude')\n",
      "plt.show()"
     ],
     "language": "python",
     "metadata": {
      "slideshow": {
       "slide_type": "slide"
      }
     },
     "outputs": [
      {
       "metadata": {},
       "output_type": "display_data",
       "png": "[encoded data removed]",
       "text": [
        "<matplotlib.figure.Figure at 0x7fb4309b2f10>"
       ]
      }
     ],
     "prompt_number": 6
    },
    {
     "cell_type": "code",
     "collapsed": false,
     "input": [
      "next_pow2 = int(2**np.ceil(np.log2(size_call)))\n",
      "start = time.time()\n",
      "dft_whale_call = np.fft.fft(blue_whale_call, n=next_pow2)\n",
      "fft_duration = time.time() - start\n",
      "\n",
      "re_sampled_time = np.arange(next_pow2) * sampling_rate / (10.0 * next_pow2)\n",
      "dft_power = np.real(dft_whale_call * np.conj(dft_whale_call)) / next_pow2\n",
      "\n",
      "plt.plot(re_sampled_time[:next_pow2/2],\n",
      "         dft_power[:next_pow2/2])\n",
      "\n",
      "plt.xlabel('Frequency (Hz)')\n",
      "plt.ylabel('Power')\n",
      "plt.title('Component Frequencies of a Blue Whale B Call')\n",
      "plt.show()"
     ],
     "language": "python",
     "metadata": {
      "slideshow": {
       "slide_type": "slide"
      }
     },
     "outputs": [
      {
       "metadata": {},
       "output_type": "display_data",
       "png": "[encoded data removed]",
       "text": [
        "<matplotlib.figure.Figure at 0x7fb4481bf0d0>"
       ]
      }
     ],
     "prompt_number": 7
    },
    {
     "cell_type": "code",
     "collapsed": false,
     "input": [
      "# We expect a \"slowdown factor\" of N / log N\n",
      "expected_quadratic = fft_duration * next_pow2 / np.log2(next_pow2)\n",
      "\n",
      "display.display(display.Math(\n",
      "     r'\\text{Duration with FFT optimized: } %2.10f \\\\ '\n",
      "     r'\\text{Expected Quadratic Run-time: } %2.10f' % (fft_duration, expected_quadratic)))"
     ],
     "language": "python",
     "metadata": {
      "slideshow": {
       "slide_type": "slide"
      }
     },
     "outputs": [
      {
       "latex": [
        "$$\\text{Duration with FFT optimized: } 0.0008718967 \\\\ \\text{Expected Quadratic Run-time: } 0.5494290865$$"
       ],
       "metadata": {},
       "output_type": "display_data",
       "text": [
        "<IPython.core.display.Math at 0x7fb4481b6a10>"
       ]
      }
     ],
     "prompt_number": 8
    },
    {
     "cell_type": "code",
     "collapsed": false,
     "input": [
      "t = - 2 * np.pi * 1j * np.arange(next_pow2)\n",
      "s = np.arange(next_pow2, dtype=np.float64) / next_pow2\n",
      "\n",
      "blue_whale_call_padded = np.hstack([\n",
      "    blue_whale_call,\n",
      "    np.zeros(next_pow2 - len(blue_whale_call)),\n",
      "])\n",
      "\n",
      "start = time.time()\n",
      "f_hat = compute_f_hat(blue_whale_call_padded, t, s)\n",
      "naive_duration = time.time() - start\n",
      "\n",
      "display.display(display.Math(r'\\text{Actual Naive Duration: } %2.10f \\\\' % (naive_duration,)))"
     ],
     "language": "python",
     "metadata": {
      "slideshow": {
       "slide_type": "slide"
      }
     },
     "outputs": [
      {
       "latex": [
        "$$\\text{Actual Naive Duration: } 7.0318760872 \\\\$$"
       ],
       "metadata": {},
       "output_type": "display_data",
       "text": [
        "<IPython.core.display.Math at 0x7fb4309d7b10>"
       ]
      }
     ],
     "prompt_number": 9
    },
    {
     "cell_type": "code",
     "collapsed": false,
     "input": [
      "f_hat_power = np.real(f_hat * np.conj(f_hat)) / next_pow2\n",
      "\n",
      "error = np.linalg.norm(\n",
      "    f_hat_power[:next_pow2/2] - dft_power[:next_pow2/2],\n",
      "    ord=2,\n",
      ")\n",
      "sig, exponent = str(error).split('e')\n",
      "expr = r'\\|e\\|_2 = %s \\cdot 10^{%s}' % (sig, exponent)\n",
      "display.display(display.Math(expr))"
     ],
     "language": "python",
     "metadata": {
      "slideshow": {
       "slide_type": "slide"
      }
     },
     "outputs": [
      {
       "latex": [
        "$$\\|e\\|_2 = 5.98766776758 \\cdot 10^{-14}$$"
       ],
       "metadata": {},
       "output_type": "display_data",
       "text": [
        "<IPython.core.display.Math at 0x7fb4481bfbd0>"
       ]
      }
     ],
     "prompt_number": 10
    },
    {
     "cell_type": "heading",
     "level": 1,
     "metadata": {
      "slideshow": {
       "slide_type": "slide"
      }
     },
     "source": [
      "Partitioning the Inputs"
     ]
    },
    {
     "cell_type": "markdown",
     "metadata": {},
     "source": [
      "For a given level $\\ell$, assume we have partitioned the target\n",
      "space $T$ into $2^{\\ell}$ evenly spaced intervals and have\n",
      "partitioned $S$ into $2^{L - \\ell}$ where $L = \\mathcal{O}\\left(\n",
      "\\log_2 N\\right)$ is some maximum\n",
      "depth which we determine later."
     ]
    },
    {
     "cell_type": "code",
     "collapsed": false,
     "input": [
      "from make_partition_plots import make_1D_example_plot\n",
      "make_1D_example_plot(0)"
     ],
     "language": "python",
     "metadata": {
      "slideshow": {
       "slide_type": "slide"
      }
     },
     "outputs": [
      {
       "metadata": {},
       "output_type": "display_data",
       "png": "[encoded data removed]",
       "text": [
        "<matplotlib.figure.Figure at 0x7fb4481a96d0>"
       ]
      }
     ],
     "prompt_number": 11
    },
    {
     "cell_type": "code",
     "collapsed": false,
     "input": [
      "make_1D_example_plot(1)"
     ],
     "language": "python",
     "metadata": {
      "slideshow": {
       "slide_type": "slide"
      }
     },
     "outputs": [
      {
       "metadata": {},
       "output_type": "display_data",
       "png": "[encoded data removed]",
       "text": [
        "<matplotlib.figure.Figure at 0x7fb430df6450>"
       ]
      }
     ],
     "prompt_number": 12
    },
    {
     "cell_type": "code",
     "collapsed": false,
     "input": [
      "make_1D_example_plot(2)"
     ],
     "language": "python",
     "metadata": {
      "slideshow": {
       "slide_type": "slide"
      }
     },
     "outputs": [
      {
       "metadata": {},
       "output_type": "display_data",
       "png": "[encoded data removed]",
       "text": [
        "<matplotlib.figure.Figure at 0x7fb430d9b290>"
       ]
      }
     ],
     "prompt_number": 13
    },
    {
     "cell_type": "markdown",
     "metadata": {
      "slideshow": {
       "slide_type": "slide"
      }
     },
     "source": [
      "## Going from $\\mathbb{R}$ to $\\mathbb{C}$\n",
      "\n",
      "What if $t_k, s_j \\in \\mathbb{C}$ instead of $\\mathbb{R}$?"
     ]
    },
    {
     "cell_type": "code",
     "collapsed": false,
     "input": [
      "from make_partition_plots import make_2D_example_plot\n",
      "make_2D_example_plot(0, 3)"
     ],
     "language": "python",
     "metadata": {
      "slideshow": {
       "slide_type": "slide"
      }
     },
     "outputs": [
      {
       "metadata": {},
       "output_type": "display_data",
       "png": "[encoded data removed]",
       "text": [
        "<matplotlib.figure.Figure at 0x7fb430a3c250>"
       ]
      }
     ],
     "prompt_number": 14
    },
    {
     "cell_type": "code",
     "collapsed": false,
     "input": [
      "make_2D_example_plot(1, 3)"
     ],
     "language": "python",
     "metadata": {
      "slideshow": {
       "slide_type": "slide"
      }
     },
     "outputs": [
      {
       "metadata": {},
       "output_type": "display_data",
       "png": "[encoded data removed]",
       "text": [
        "<matplotlib.figure.Figure at 0x7fb430a60210>"
       ]
      }
     ],
     "prompt_number": 15
    },
    {
     "cell_type": "code",
     "collapsed": false,
     "input": [
      "make_2D_example_plot(2, 3)"
     ],
     "language": "python",
     "metadata": {
      "slideshow": {
       "slide_type": "slide"
      }
     },
     "outputs": [
      {
       "metadata": {},
       "output_type": "display_data",
       "png": "[encoded data removed]",
       "text": [
        "<matplotlib.figure.Figure at 0x7fb430d7f3d0>"
       ]
      }
     ],
     "prompt_number": 16
    },
    {
     "cell_type": "code",
     "collapsed": false,
     "input": [
      "make_2D_example_plot(3, 3)"
     ],
     "language": "python",
     "metadata": {
      "slideshow": {
       "slide_type": "slide"
      }
     },
     "outputs": [
      {
       "metadata": {},
       "output_type": "display_data",
       "png": "[encoded data removed]",
       "text": [
        "<matplotlib.figure.Figure at 0x7fb430b95f10>"
       ]
      }
     ],
     "prompt_number": 17
    },
    {
     "cell_type": "markdown",
     "metadata": {
      "slideshow": {
       "slide_type": "slide"
      }
     },
     "source": [
      "![MIT Butterfly Trees](MIT.18.336.trees.jpg)"
     ]
    },
    {
     "cell_type": "heading",
     "level": 1,
     "metadata": {
      "slideshow": {
       "slide_type": "slide"
      }
     },
     "source": [
      "Partitioning the Inputs"
     ]
    },
    {
     "cell_type": "markdown",
     "metadata": {},
     "source": [
      "In general\n",
      "$$T\\left\\{\\ell\\right\\} = \\bigcup_{i = 0}^{2^{\\ell} - 1} T\\left(i; \\ell\n",
      "\\right)$$\n",
      "and\n",
      "$$S\\left\\{L - \\ell\\right\\} = \\bigcup_{j = 0}^{2^{L - \\ell} - 1}\n",
      "S\\left(j; L - \\ell\\right).$$\n",
      "Define the centers of these boxes (intervals here, but feel free to get\n",
      "more generic) as\n",
      "$$\\boxed{\\tau(i; \\ell) \\text{ and } \\sigma(m; L - \\ell)}.$$"
     ]
    },
    {
     "cell_type": "heading",
     "level": 1,
     "metadata": {
      "slideshow": {
       "slide_type": "slide"
      }
     },
     "source": [
      "Kernel Approximation"
     ]
    },
    {
     "cell_type": "markdown",
     "metadata": {},
     "source": [
      "For $z \\in \\mathbf{C}$:\n",
      "$$e^z = \\sum_{\\alpha = 0}^m \\frac{z^{\\alpha}}{\\alpha!} + E_m$$\n",
      "with error $\\left|E_m\\right| \\leq \\left(\\frac{\\left|z\\right| e}{m}\n",
      "\\right)^m$."
     ]
    },
    {
     "cell_type": "heading",
     "level": 1,
     "metadata": {
      "slideshow": {
       "slide_type": "slide"
      }
     },
     "source": [
      "Basic Trick"
     ]
    },
    {
     "cell_type": "code",
     "collapsed": false,
     "input": [
      "import sympy\n",
      "\n",
      "t, s, tau, sigma = sympy.symbols('t s tau sigma')\n",
      "RHS = (\n",
      "    tau * sigma + \n",
      "    tau * (s - sigma) + \n",
      "    sigma * (t - tau) +\n",
      "    (s - sigma) * (t - tau)\n",
      ")\n",
      "display.display(display.Math(sympy.latex(RHS)))"
     ],
     "language": "python",
     "metadata": {},
     "outputs": [
      {
       "latex": [
        "$$\\sigma \\tau + \\sigma \\left(t - \\tau\\right) + \\tau \\left(s - \\sigma\\right) + \\left(s - \\sigma\\right) \\left(t - \\tau\\right)$$"
       ],
       "metadata": {},
       "output_type": "display_data",
       "text": [
        "<IPython.core.display.Math at 0x7fb430527f10>"
       ]
      }
     ],
     "prompt_number": 18
    },
    {
     "cell_type": "code",
     "collapsed": false,
     "input": [
      "display.display(display.Math(sympy.latex(RHS.simplify())))"
     ],
     "language": "python",
     "metadata": {},
     "outputs": [
      {
       "latex": [
        "$$s t$$"
       ],
       "metadata": {},
       "output_type": "display_data",
       "text": [
        "<IPython.core.display.Math at 0x7fb43003df90>"
       ]
      }
     ],
     "prompt_number": 19
    },
    {
     "cell_type": "heading",
     "level": 1,
     "metadata": {
      "slideshow": {
       "slide_type": "slide"
      }
     },
     "source": [
      "Basic Trick in Use"
     ]
    },
    {
     "cell_type": "markdown",
     "metadata": {},
     "source": [
      "We can use it to say\n",
      "\\begin{align*}\n",
      "e^{ts} f &= e^{\\tau \\sigma} e^{\\tau (s - \\sigma)} e^{\\sigma (t - \\tau)}\n",
      "e^{(t - \\tau)(s - \\sigma)} f \\\\\n",
      "&= e^{\\tau \\sigma} e^{\\tau (s - \\sigma)} e^{\\sigma (t - \\tau)}\n",
      "\\sum_{\\alpha \\geq 0} \\frac{1}{\\alpha!} (t - \\tau)^{\\alpha}\n",
      "(s - \\sigma)^{\\alpha} f \\\\\n",
      "&= \\sum_{\\alpha \\geq 0} \\left\\{ \\left[\n",
      "\\frac{1}{\\alpha!} e^{\\tau \\sigma} e^{\\tau (s - \\sigma)}\n",
      "(s - \\sigma)^{\\alpha} \\right]\n",
      "e^{\\sigma (t - \\tau)} (t - \\tau)^{\\alpha} f\\right\\} \\\\\n",
      "&= \\sum_{\\alpha \\geq 0} K(s; \\alpha, \\tau, \\sigma)\n",
      "e^{\\sigma (t - \\tau)} (t - \\tau)^{\\alpha} f.\n",
      "\\end{align*}"
     ]
    },
    {
     "cell_type": "heading",
     "level": 1,
     "metadata": {
      "slideshow": {
       "slide_type": "slide"
      }
     },
     "source": [
      "Basic Trick Emphasis"
     ]
    },
    {
     "cell_type": "markdown",
     "metadata": {},
     "source": [
      "We emphasize the definition:\n",
      "$$\\boxed{K(s; \\alpha, \\tau, \\sigma) =\n",
      "\\frac{1}{\\alpha!} e^{\\tau \\sigma} e^{\\tau (s - \\sigma)}\n",
      "(s - \\sigma)^{\\alpha}}.$$"
     ]
    },
    {
     "cell_type": "code",
     "collapsed": false,
     "input": [
      "from scipy.misc import factorial\n",
      "\n",
      "\n",
      "def K(s, alpha, tau, sigma):\n",
      "    return (np.exp(tau * s) * (s - sigma)**alpha) / factorial(alpha)"
     ],
     "language": "python",
     "metadata": {},
     "outputs": [],
     "prompt_number": 20
    },
    {
     "cell_type": "heading",
     "level": 1,
     "metadata": {
      "slideshow": {
       "slide_type": "slide"
      }
     },
     "source": [
      "Return to Motivation"
     ]
    },
    {
     "cell_type": "markdown",
     "metadata": {},
     "source": [
      "Recall\n",
      "$$\\widehat{f}_k = \\sum_{j = 0}^{N - 1} e^{t_k s_j} f_j$$\n",
      "and notice that for a fixed $k$ and fixed $\\ell$, there is a unique\n",
      "$i$ such that $t_k \\in T(i; \\ell)$, then invoking\n",
      "$K(s; \\alpha, \\tau(i; \\ell), \\sigma)$ as $\\sigma$ varies over\n",
      "$$\\sigma(0; L - \\ell), \\ldots, \\sigma\\left(2^{L - \\ell} - 1; L -\n",
      "\\ell\\right)$$\n",
      "will turn our sum into $2^{L - \\ell}$ sums (each with another sum over\n",
      "$\\alpha$)."
     ]
    },
    {
     "cell_type": "heading",
     "level": 1,
     "metadata": {
      "slideshow": {
       "slide_type": "slide"
      }
     },
     "source": [
      "Return to Motivation"
     ]
    },
    {
     "cell_type": "markdown",
     "metadata": {},
     "source": [
      "Thus, letting $\\tau = \\tau(i; \\ell)$:\n",
      "\\begin{align*}\n",
      "\\widehat{f}_k &= \\sum_{j = 0}^{N - 1} e^{t_k s_j} f_j \\\\\n",
      "&= \\sum_m \\sum_{s \\in S(m; L - \\ell)}\n",
      "e^{t_k s} f(s) \\\\\n",
      "&= \\sum_m \\sum_{s \\in S(m)}\n",
      "\\sum_{\\alpha \\geq 0} K\\left(s; \\alpha, \\tau,\n",
      "\\sigma(m)\\right) e^{\\sigma(m) (t_k - \\tau)} (t_k - \\tau)^{\\alpha}\n",
      "f(s).\n",
      "\\end{align*}\n",
      "Above we write $\\sigma(m)$ instead of $\\sigma(m; L - \\ell)$ since the\n",
      "refinement level is clear from context.\n",
      "\n",
      "**NOTE**: We write $f(s)$ to denote $f_j$ in the case that\n",
      "$s = s_j$."
     ]
    },
    {
     "cell_type": "heading",
     "level": 1,
     "metadata": {
      "slideshow": {
       "slide_type": "slide"
      }
     },
     "source": [
      "Rearrangement"
     ]
    },
    {
     "cell_type": "markdown",
     "metadata": {},
     "source": [
      "Rearranging\n",
      "\\begin{align*}\n",
      "\\widehat{f}_k &=\n",
      "\\sum_m \\sum_{s \\in S(m)}\n",
      "\\sum_{\\alpha \\geq 0} K\\left(s; \\alpha, \\tau,\n",
      "\\sigma(m)\\right) e^{\\sigma(m) (t_k - \\tau)} (t_k - \\tau)^{\\alpha}\n",
      "f(s) \\\\\n",
      "&= \\sum_m \\sum_{\\alpha \\geq 0} e^{\\sigma(m) (t_k - \\tau)}\n",
      "(t_k - \\tau)^{\\alpha} \\sum_{s \\in S(m)} K\\left(s; \\alpha, \\tau,\n",
      "\\sigma(m)\\right) f(s) \\\\\n",
      "&= \\sum_m \\sum_{\\alpha \\geq 0}\n",
      "C\\left(\\alpha, \\ell, i, m\\right)\n",
      "e^{\\sigma(m) (t_k - \\tau)} (t_k - \\tau)^{\\alpha}.\n",
      "\\end{align*}"
     ]
    },
    {
     "cell_type": "heading",
     "level": 1,
     "metadata": {
      "slideshow": {
       "slide_type": "slide"
      }
     },
     "source": [
      "Rearrangement"
     ]
    },
    {
     "cell_type": "markdown",
     "metadata": {},
     "source": [
      "We emphasize the definition:\n",
      "$$C\\left(\\alpha, \\ell, i, m\\right) =\n",
      "\\sum_{s \\in S(m)} K\\left(s; \\alpha, \\tau(i),\n",
      "\\sigma(m)\\right) f(s)$$\n",
      "or more explicitly\n",
      "$$\\boxed{C\\left(\\alpha, \\ell, i, m\\right) =\n",
      "\\frac{1}{\\alpha} \\sum_{s \\in S(m)}\n",
      "e^{\\tau(i) \\sigma(m)} e^{\\tau(i) (s - \\sigma(m))}\n",
      "(s - \\sigma(m))^{\\alpha} f(s)}.$$"
     ]
    },
    {
     "cell_type": "code",
     "collapsed": false,
     "input": [
      "def C(alpha, tau_i, sigma_m, Sm):\n",
      "    result = 0.0\n",
      "    for s, f_val in Sm:\n",
      "        result += K(s, alpha, tau_i, sigma_m) * f_val\n",
      "    return result"
     ],
     "language": "python",
     "metadata": {},
     "outputs": [],
     "prompt_number": 21
    },
    {
     "cell_type": "heading",
     "level": 1,
     "metadata": {
      "slideshow": {
       "slide_type": "slide"
      }
     },
     "source": [
      "Approximation"
     ]
    },
    {
     "cell_type": "markdown",
     "metadata": {},
     "source": [
      "For any level $\\ell$ with $t_k \\in T(i; \\ell)$ we can approximate\n",
      "the exact value\n",
      "$$\\widehat{f}_k = \\sum_m \\sum_{\\alpha \\geq 0}\n",
      "C\\left(\\alpha, \\ell, i, m\\right)\n",
      "e^{\\sigma(m) (t_k - \\tau(i))} (t_k - \\tau(i))^{\\alpha}.$$\n",
      "by\n",
      "$$\\widehat{f}_k \\approx \\sum_m \\sum_{\\alpha = 0}^{M - 1}\n",
      "C\\left(\\alpha, \\ell, i, m\\right)\n",
      "e^{\\sigma(m) (t_k - \\tau(i))} (t_k - \\tau(i))^{\\alpha}$$\n",
      "for some max number of terms $M$."
     ]
    },
    {
     "cell_type": "heading",
     "level": 1,
     "metadata": {
      "slideshow": {
       "slide_type": "slide"
      }
     },
     "source": [
      "Approximation"
     ]
    },
    {
     "cell_type": "markdown",
     "metadata": {},
     "source": [
      "Notice that $C\\left(\\alpha, \\ell, i, m\\right)$ does not depend on\n",
      "$k$, so we only need to compute this for $M$ choices of\n",
      "$\\alpha$, $2^{\\ell}$ choices of $i$ and $2^{L - \\ell}$ choices\n",
      "of $m$. In total\n",
      "$$M \\cdot 2^L = \\mathcal{O}\\left(M \\cdot N\\right) =\n",
      "\\mathcal{O}\\left(N\\right)$$\n",
      "independent of $\\ell$."
     ]
    },
    {
     "cell_type": "heading",
     "level": 1,
     "metadata": {
      "slideshow": {
       "slide_type": "slide"
      }
     },
     "source": [
      "Trying to Compute These"
     ]
    },
    {
     "cell_type": "markdown",
     "metadata": {},
     "source": [
      "We start with $\\ell = 0$ and consider what it might take to compute.\n",
      "\n",
      "<ul>\n",
      "<li class=\"fragment\">In this case we have exactly one target box $T(0; 0)$ and $2^L = \\mathcal{O}(N)$ source boxes $S(m; L)$</li>\n",
      "<li class=\"fragment\">Since at level $L$, we know $\\left|S(m; L)\\right| = \\mathcal{O}(1)$ hence computing each coefficient is $\\mathcal{O}(1)$</li>\n",
      "<li class=\"fragment\">However, for each of these boxes, we need to compute $\\exp\\left\\{\\sigma(m; L) (t_k - \\tau(0; 0))\\right\\}$ which is $\\mathcal{O}\\left(N^2\\right)$ since we have $2^L = \\mathcal{O}(N)$ choices for $m$ and $N = \\mathcal{O}(N)$ choices for $t_k$.</li>\n",
      "</ul>"
     ]
    },
    {
     "cell_type": "heading",
     "level": 1,
     "metadata": {
      "slideshow": {
       "slide_type": "slide"
      }
     },
     "source": [
      "Trying to Compute These"
     ]
    },
    {
     "cell_type": "markdown",
     "metadata": {},
     "source": [
      "Instead we consider the **end** where $\\ell = L$.\n",
      "\n",
      "<ul>\n",
      "<li class=\"fragment\">In this case we have exactly one source box $S(0; 0)$ and $2^L = \\mathcal{O}(N)$ target boxes $T(i; L)$.</li>\n",
      "<li class=\"fragment\">Since at level $0$, we know $\\left|S(0; 0)\\right| = N = \\mathcal{O}(N)$ hence computing each coefficient (for fixed $i$) is $\\mathcal{O}(N)$.</li>\n",
      "<li class=\"fragment\">Since we have $\\mathcal{O}(N)$ choices for $i$, there are $\\mathcal{O}\\left(N^2\\right)$ coefficients to compute.</li>\n",
      "</ul>"
     ]
    },
    {
     "cell_type": "heading",
     "level": 1,
     "metadata": {
      "slideshow": {
       "slide_type": "slide"
      }
     },
     "source": [
      "Here's the Catch"
     ]
    },
    {
     "cell_type": "markdown",
     "metadata": {},
     "source": [
      "The the $\\ell = L$ approach sinks us immediately by asking us to compute\n",
      "$\\mathcal{O}\\left(N^2\\right)$ coefficients, we have a\n",
      "**positive takeaway**.\n",
      "\n",
      "Since there is only one value $\\sigma = \\sigma(0; 0)$, we can compute\n",
      "each value as\n",
      "$$\\widehat{f}_k \\approx \\sum_{\\alpha = 0}^{M - 1}\n",
      "C\\left(\\alpha, L, i, m=0\\right)\n",
      "e^{\\sigma (t_k - \\tau(i; L))} (t_k - \\tau(i; L))^{\\alpha}.$$\n",
      "\n",
      "$$\\boxed{\\text{This is happily }\n",
      "\\mathcal{O}(M) = \\mathcal{O}(1)\n",
      "\\text{ to compute.}}$$"
     ]
    },
    {
     "cell_type": "heading",
     "level": 1,
     "metadata": {
      "slideshow": {
       "slide_type": "slide"
      }
     },
     "source": [
      "Now What"
     ]
    },
    {
     "cell_type": "markdown",
     "metadata": {},
     "source": [
      "<ul>\n",
      "<li>We've seen that no matter what $\\ell$ is, we have\n",
      "$M \\cdot 2^L = \\mathcal{O}(N)$ coefficients $C(\\alpha, \\ell, i, m)$\n",
      "to compute.</li>\n",
      "<li class=\"fragment\">When $\\ell = 0$ we can compute all the coefficients\n",
      "in $\\mathcal{O}(1)$ since the refinement $L - \\ell = L$ in the source\n",
      "space gives $\\left|S(m; L)\\right| = \\mathcal{O}(1)$.</li>\n",
      "<li class=\"fragment\">When $\\ell = L$ we can compute all the values\n",
      "$\\widehat{f}_k$ in $\\mathcal{O}(1)$ provided we already have the\n",
      "$C(\\alpha, \\ell, i, m)$.</li>\n",
      "<li class=\"fragment\">This means that the computation of\n",
      "$\\left\\{\\widehat{f}_k\\right\\}_k$ is $\\mathcal{O}(N)$.\n",
      "</li>\n",
      "</ul>"
     ]
    },
    {
     "cell_type": "heading",
     "level": 1,
     "metadata": {
      "slideshow": {
       "slide_type": "slide"
      }
     },
     "source": [
      "Now What"
     ]
    },
    {
     "cell_type": "markdown",
     "metadata": {},
     "source": [
      "<ul>\n",
      "<li>To summarize, we know we can compute the $\\mathcal{O}(N)$ values\n",
      "$C(\\alpha, 0, i = 0, m)$ in $\\mathcal{O}(N)$ and we know we can use the\n",
      "$\\mathcal{O}(N)$ values $C(\\alpha, L, i, m = 0)$ to compute\n",
      "$\\left\\{\\widehat{f}_k\\right\\}_k$ in $\\mathcal{O}(N)$.</li>\n",
      "<li class=\"fragment\">(Let's assume that) Butterfly gives a process to convert\n",
      "$$\\left\\{C(\\alpha, 0, i, m)\\right\\} \\rightarrow\n",
      "\\left\\{C(\\alpha, 1, i, m)\\right\\} \\rightarrow \\cdots\n",
      "\\rightarrow \\left\\{C(\\alpha, L, i, m)\\right\\}$$\n",
      "using $\\mathcal{O}\\left(N \\log N\\right)$ operations.</li>\n",
      "<li class=\"fragment\">Thus, we can compute $\\left\\{\\widehat{f}_k\\right\\}_k$ in\n",
      "$$\\mathcal{O}\\left(N\\right) + \\mathcal{O}\\left(N \\log N\\right) +\n",
      "\\mathcal{O}\\left(N\\right) = \\mathcal{O}\\left(N \\log N\\right).$$</li>\n",
      "<li class=\"fragment\"><strong>In other words, the process of converting the coefficients\n",
      "will dominate</strong>.</li>\n",
      "</ul>"
     ]
    },
    {
     "cell_type": "markdown",
     "metadata": {
      "slideshow": {
       "slide_type": "slide"
      }
     },
     "source": [
      "<h1 class=\"bigtitle\">Converting Coefficients</h1>"
     ]
    },
    {
     "cell_type": "heading",
     "level": 1,
     "metadata": {
      "slideshow": {
       "slide_type": "slide"
      }
     },
     "source": [
      "High Level Approach"
     ]
    },
    {
     "cell_type": "markdown",
     "metadata": {},
     "source": [
      "In order to facilitate the process\n",
      "$$\\left\\{C(\\alpha, \\ell, i, m)\\right\\}_{\\alpha, i, m} \\rightarrow\n",
      "\\left\\{C(\\alpha, \\ell + 1, i, m)\\right\\}_{\\alpha, i, m}$$\n",
      "we split into two parts:\n",
      "\n",
      "- Refine $T$ and compute interaction coefficients for $T\\left\\{\\ell + 1\\right\\}$ and $S\\left\\{L - \\ell\\right\\}$.\n",
      "- This first step will use the existing interaction coefficients for $T\\left\\{\\ell\\right\\}$ and $S\\left\\{L - \\ell\\right\\}$. These are exactly $\\left\\{C(\\alpha, \\ell, i, m)\\right\\}_{\\alpha, i, m}$.\n",
      "- Coarsen $S$ and compute interaction coefficients for $T\\left\\{\\ell + 1\\right\\}$ and $S\\left\\{L - \\ell - 1\\right\\}$ using the intermediate coefficients computed in the first step. This will produce $\\left\\{C(\\alpha, \\ell + 1, i, m)\\right\\}_{\\alpha, i, m}$."
     ]
    },
    {
     "cell_type": "heading",
     "level": 1,
     "metadata": {
      "slideshow": {
       "slide_type": "slide"
      }
     },
     "source": [
      "Memories..."
     ]
    },
    {
     "cell_type": "markdown",
     "metadata": {},
     "source": [
      "Before we get started, recall for $\\tau = \\tau(i; \\ell)$ and\n",
      "$\\sigma = \\sigma(m; L - \\ell)$:\n",
      "$$C\\left(\\alpha, \\ell, i, m\\right) = \\frac{1}{\\alpha!}\n",
      "\\sum_{s \\in S(m; L - \\ell)}\n",
      "e^{\\tau \\sigma} e^{\\tau (s - \\sigma)}\n",
      "(s - \\sigma)^{\\alpha} f(s).$$"
     ]
    },
    {
     "cell_type": "heading",
     "level": 1,
     "metadata": {
      "slideshow": {
       "slide_type": "slide"
      }
     },
     "source": [
      "Refining $T$"
     ]
    },
    {
     "cell_type": "markdown",
     "metadata": {},
     "source": [
      "When refining $T(i; \\ell)$, we get two new intervals. Assuming they are\n",
      "ordered by their indices, we have\n",
      "$$T(i; \\ell) = T(2i; \\ell + 1) \\cup T(2i + 1; \\ell + 1).$$\n",
      "For shorthand, we'll use the notation\n",
      "$$\\tau(i) = \\tau(i; \\ell) \\text{ and }\n",
      "\\tau^+(i') = \\tau(i'; \\ell + 1)$$\n",
      "when the value of $\\ell$ is clear from context.\n",
      "\n",
      "In addition, we define the intermediate interaction coefficients:\n",
      "$$\\boxed{C^+(\\alpha, \\ell, i', m) = \\frac{1}{\\alpha!}\n",
      "\\sum_{s \\in S(m)}\n",
      "e^{\\tau^+(i') \\sigma(m)} e^{\\tau^+(i') (s - \\sigma(m))}\n",
      "(s - \\sigma(m))^{\\alpha} f(s)}.$$"
     ]
    },
    {
     "cell_type": "heading",
     "level": 1,
     "metadata": {
      "slideshow": {
       "slide_type": "slide"
      }
     },
     "source": [
      "Refining $T$"
     ]
    },
    {
     "cell_type": "markdown",
     "metadata": {},
     "source": [
      "One can show\n",
      "$$\\boxed{C^+(\\alpha, \\ell, i', m) \\approx e^{(\\tau^+ - \\tau) \\sigma}\n",
      "\\sum_{\\beta = 0}^{M - 1} (\\tau^+ - \\tau)^{\\beta}\n",
      "\\binom{\\alpha + \\beta}{\\beta} C(\\alpha + \\beta, \\ell, i, m)}$$\n",
      "by truncating the sum\n",
      "$$e^{(\\tau^+ - \\tau) (s - \\sigma)} = \\sum_{\\beta \\geq 0} \\frac{1}{\\beta!}\n",
      "(\\tau^+ - \\tau)^{\\beta} (s - \\sigma)^{\\beta}$$\n",
      "and rewriting\n",
      "$$e^{\\tau^+ \\sigma} e^{\\tau^+ (s - \\sigma)} = e^{(\\tau^+ - \\tau) \\sigma}\n",
      "e^{\\tau \\sigma} e^{\\tau (s - \\sigma)}\n",
      "e^{(\\tau^+ - \\tau) (s - \\sigma)}.$$"
     ]
    },
    {
     "cell_type": "heading",
     "level": 1,
     "metadata": {
      "slideshow": {
       "slide_type": "slide"
      }
     },
     "source": [
      "Refining $T$"
     ]
    },
    {
     "cell_type": "markdown",
     "metadata": {},
     "source": [
      "In reality, $C(\\alpha + \\beta, \\ell, i, m)$ isn't defined for all\n",
      "values of $\\beta$ since we only consider inputs to\n",
      "$C(\\, \\cdot \\,, \\ell, i, m)$ from $\\left[0, M\\right)$.\n",
      "\n",
      "Thus\n",
      "$$\\boxed{C^+(\\alpha, \\ell, i', m) \\approx e^{(\\tau^+ - \\tau) \\sigma}\n",
      "\\sum_{\\gamma = \\alpha}^{M - 1} (\\tau^+ - \\tau)^{\\gamma - \\alpha}\n",
      "\\binom{\\gamma}{\\alpha} C(\\gamma, \\ell, i, m)}$$\n",
      "is the actual approximation we use."
     ]
    },
    {
     "cell_type": "heading",
     "level": 1,
     "metadata": {
      "slideshow": {
       "slide_type": "slide"
      }
     },
     "source": [
      "Coarsening $S$"
     ]
    },
    {
     "cell_type": "markdown",
     "metadata": {},
     "source": [
      "Now we have written the $C^+(\\, \\cdot \\,, \\ell, i', m)$ values in\n",
      "terms of the $C(\\, \\cdot \\,, \\ell, i, m)$ values.\n",
      "\n",
      "From here, we want to use the $C^+(\\, \\cdot \\,, \\ell, i', m)$ values to\n",
      "express the $C(\\, \\cdot \\,, \\ell + 1, i', m')$ values in the same fashion,\n",
      "but here by coarsening $S$:\n",
      "$$S(m'; L - \\ell - 1) = S(2m'; L - \\ell) \\cup S(2m' + 1; L - \\ell).$$\n",
      "The definition $m'$ here requires that $m \\in \\left\\{2m', 2m' +\n",
      "1\\right\\}$. In either case $m' = \\left\\lfloor\\frac{m}{2}\\right\\rfloor$.\n",
      "\n",
      "Similarly, for shorthand, we'll use the notation\n",
      "$$\\sigma(m) = \\sigma(m; L - \\ell) \\text{ and }\n",
      "\\sigma^-(m') = \\sigma(m'; L - \\ell - 1).$$"
     ]
    },
    {
     "cell_type": "heading",
     "level": 1,
     "metadata": {
      "slideshow": {
       "slide_type": "slide"
      }
     },
     "source": [
      "Coarsening $S$"
     ]
    },
    {
     "cell_type": "markdown",
     "metadata": {},
     "source": [
      "When computing\n",
      "$$C(\\alpha, \\ell + 1, i', m') = \\frac{1}{\\alpha!}\n",
      "\\sum_{s \\in S(m'; L - \\ell - 1)}\n",
      "e^{\\tau^+ \\sigma^-} e^{\\tau^+ (s - \\sigma^-)}\n",
      "(s - \\sigma^-)^{\\alpha} f(s)$$\n",
      "we need to split our sum into\n",
      "$$\\sum_{s \\in S(m'; L - \\ell - 1)} =\n",
      "\\sum_{s \\in S(2m'; L - \\ell)} +\n",
      "\\sum_{s \\in S(2m' + 1; L - \\ell)}.$$"
     ]
    },
    {
     "cell_type": "heading",
     "level": 1,
     "metadata": {
      "slideshow": {
       "slide_type": "slide"
      }
     },
     "source": [
      "Coarsening $S$"
     ]
    },
    {
     "cell_type": "markdown",
     "metadata": {},
     "source": [
      "After splitting the into two sums, we can show\n",
      "\\begin{align*}\n",
      "C(\\alpha, \\ell + 1, i', m') &= \\sum_{\\beta = 0}^{\\alpha}\n",
      "\\frac{(\\sigma(2m') - \\sigma^-)^{\\alpha - \\beta}}{(\\alpha - \\beta)!}\n",
      "C^+\\left(\\beta, \\ell, i', 2m'\\right) \\\\\n",
      "&+ \\sum_{\\beta = 0}^{\\alpha}\n",
      "\\frac{(\\sigma(2m' + 1) - \\sigma^-)^{\\alpha - \\beta}}{(\\alpha - \\beta)!}\n",
      "C^+\\left(\\beta, \\ell, i', 2m' + 1\\right).\n",
      "\\end{align*}\n",
      "by using binomial expansion\n",
      "$$(s - \\sigma^-)^{\\alpha} = \\sum_{\\beta = 0}^{\\alpha}\n",
      "\\binom{\\alpha}{\\beta} (s - \\sigma)^{\\beta} (\\sigma -\n",
      "\\sigma^-)^{\\alpha - \\beta}.$$"
     ]
    },
    {
     "cell_type": "heading",
     "level": 1,
     "metadata": {
      "slideshow": {
       "slide_type": "slide"
      }
     },
     "source": [
      "Combining Transformations"
     ]
    },
    {
     "cell_type": "markdown",
     "metadata": {},
     "source": [
      "For each fixed $\\ell, i, m$, the coefficient vector\n",
      "$C(\\, \\cdot \\,, \\ell, i, m) \\in \\mathbf{R}^M$ and the system we've\n",
      "described by refining and coarsening gives a block linear transformation:\n",
      "$$A: \\left[\\begin{array}{c} C(\\, \\cdot \\,, \\ell, i, 2 m') \\\\\n",
      "C(\\, \\cdot \\,, \\ell, i, 2 m' + 1) \\end{array}\\right] \\mapsto\n",
      "\\left[\\begin{array}{c} C(\\, \\cdot \\,, \\ell + 1, 2i, m') \\\\\n",
      "C(\\, \\cdot \\,, \\ell + 1, 2i + 1, m') \\end{array}\\right].$$\n",
      "In the case of higher dimensions or for inputs in $\\mathbf{C}$ the\n",
      "transformation goes from operating on vectors of size $2M$ to size\n",
      "$2^d M$ where $d$ is the dimension (over $\\mathbf{R}$) of the space\n",
      "containing the $t_k, s_j$."
     ]
    },
    {
     "cell_type": "heading",
     "level": 1,
     "metadata": {
      "slideshow": {
       "slide_type": "slide"
      }
     },
     "source": [
      "Determine Matrix $A$"
     ]
    },
    {
     "cell_type": "markdown",
     "metadata": {},
     "source": [
      "To determine each element $A_{pq}$ we need to find the coefficient of the\n",
      "$q$\\textsuperscript{th} element of the input vector in the\n",
      "$p$\\textsuperscript{th} element of the output vector.\n",
      "\n",
      "This splits into four distinct cases, depending on whether each of $p, q$\n",
      "correspond to the top or bottom half. Thus we can split $A$ into a block\n",
      "$2 \\times 2$ matrix\n",
      "$$A = \\left[\\begin{array}{c c} E & F \\\\\n",
      "G & H \\end{array}\\right].$$"
     ]
    },
    {
     "cell_type": "heading",
     "level": 1,
     "metadata": {
      "slideshow": {
       "slide_type": "slide"
      }
     },
     "source": [
      "Determine Matrix $A$"
     ]
    },
    {
     "cell_type": "markdown",
     "metadata": {},
     "source": [
      "For $0 \\leq p, q < M$.\n",
      "\\begin{align*}\n",
      "C(p, \\ell + 1, 2i, m') &= \\cdots + E_{pq} C(q, \\ell, i, 2m') + \\cdots \\\\\n",
      "C(p, \\ell + 1, 2i, m') &= \\cdots + F_{pq} C(q, \\ell, i, 2m' + 1) + \\cdots \\\\\n",
      "C(p, \\ell + 1, 2i + 1, m') &= \\cdots + G_{pq} C(q, \\ell, i, 2m') + \\cdots \\\\\n",
      "C(p, \\ell + 1, 2i + 1, m') &= \\cdots + H_{pq} C(q, \\ell, i, 2m' + 1) + \\cdots\n",
      "\\end{align*}"
     ]
    },
    {
     "cell_type": "heading",
     "level": 1,
     "metadata": {
      "slideshow": {
       "slide_type": "slide"
      }
     },
     "source": [
      "Determine General Block Submatrix $X$"
     ]
    },
    {
     "cell_type": "markdown",
     "metadata": {},
     "source": [
      "With $i' \\in \\left\\{2i, 2i + 1\\right\\}$ and\n",
      "$m \\in \\left\\{2m', 2m' + 1\\right\\}$\n",
      "$$C(p, \\ell + 1, i', m') = \\cdots + X_{pq} C(q, \\ell, i, m) + \\cdots$$\n",
      "we use $\\sigma = \\sigma(m)$,\n",
      "$\\sigma^- = \\sigma(m')$,\n",
      "$$C(p, \\ell + 1, i', m')\n",
      "= \\cdots + \\sum_{\\beta = 0}^{p}\n",
      "\\frac{(\\sigma - \\sigma^-)^{p - \\beta}}{(p - \\beta)!}\n",
      "C^+\\left(\\beta, \\ell, i', m\\right) + \\cdots$$\n",
      "and recall with $\\tau = \\tau(i)$,\n",
      "$\\tau^+ = \\tau(i')$,\n",
      "$$C^+\\left(\\beta, \\ell, i', m\\right) =\n",
      "e^{(\\tau^+ - \\tau) \\sigma}\n",
      "\\sum_{\\gamma = \\beta}^{M - 1} (\\tau^+ - \\tau)^{\\gamma - \\beta}\n",
      "\\binom{\\gamma}{\\beta} C(\\gamma, \\ell, i, m).$$"
     ]
    },
    {
     "cell_type": "heading",
     "level": 1,
     "metadata": {
      "slideshow": {
       "slide_type": "slide"
      }
     },
     "source": [
      "Determine General Block Submatrix $X$"
     ]
    },
    {
     "cell_type": "markdown",
     "metadata": {},
     "source": [
      "Since\n",
      "$$\\sum_{\\beta = 0}^{p} \\sum_{\\gamma = \\beta}^{M - 1} =\n",
      "\\sum_{\\gamma = 0}^{M - 1} \\sum_{\\beta = 0}^{\\min(p, \\gamma)},$$\n",
      "the coefficient of $C(\\gamma, \\cdots)$ when\n",
      "$\\gamma = q$ is\n",
      "$$X_{pq} = e^{(\\tau^+ - \\tau) \\sigma} \\sum_{\\beta = 0}^{\\min(p, q)}\n",
      "\\frac{(\\sigma - \\sigma^-)^{p - \\beta}}{(p - \\beta)!}\n",
      "(\\tau^+ - \\tau)^{q - \\beta} \\binom{q}{\\beta}.$$"
     ]
    },
    {
     "cell_type": "heading",
     "level": 1,
     "metadata": {
      "slideshow": {
       "slide_type": "slide"
      }
     },
     "source": [
      "Explicit Blocks: $m = 2m'$"
     ]
    },
    {
     "cell_type": "markdown",
     "metadata": {},
     "source": [
      "- In both cases $\\sigma = \\sigma(2m'), \\sigma^- = \\sigma(m')$ and $\\tau = \\tau(i)$.\n",
      "- When $\\tau^+ = \\tau(2i)$, $$E_{pq} = e^{(\\tau^+ - \\tau) \\sigma} \\sum_{\\beta = 0}^{\\min(p, q)} \\frac{(\\sigma - \\sigma^-)^{p - \\beta}}{(p - \\beta)!} (\\tau^+ - \\tau)^{q - \\beta} \\binom{q}{\\beta}.$$\n",
      "- When $\\tau^+ = \\tau(2i + 1)$, $$G_{pq} = e^{(\\tau^+ - \\tau) \\sigma} \\sum_{\\beta = 0}^{\\min(p, q)} \\frac{(\\sigma - \\sigma^-)^{p - \\beta}}{(p - \\beta)!} (\\tau^+ - \\tau)^{q - \\beta} \\binom{q}{\\beta}.$$"
     ]
    },
    {
     "cell_type": "heading",
     "level": 1,
     "metadata": {
      "slideshow": {
       "slide_type": "slide"
      }
     },
     "source": [
      "Explicit Blocks: $m = 2m' + 1$"
     ]
    },
    {
     "cell_type": "markdown",
     "metadata": {},
     "source": [
      "- In both cases $\\sigma = \\sigma(2m' + 1), \\sigma^- = \\sigma(m')$ and $\\tau = \\tau(i)$.\n",
      "- When $\\tau^+ = \\tau(2i)$, $$F_{pq} = e^{(\\tau^+ - \\tau) \\sigma} \\sum_{\\beta = 0}^{\\min(p, q)} \\frac{(\\sigma - \\sigma^-)^{p - \\beta}}{(p - \\beta)!} (\\tau^+ - \\tau)^{q - \\beta} \\binom{q}{\\beta}.$$\n",
      "- When $\\tau^+ = \\tau(2i + 1)$, $$H_{pq} = e^{(\\tau^+ - \\tau) \\sigma} \\sum_{\\beta = 0}^{\\min(p, q)} \\frac{(\\sigma - \\sigma^-)^{p - \\beta}}{(p - \\beta)!} (\\tau^+ - \\tau)^{q - \\beta} \\binom{q}{\\beta}.$$"
     ]
    },
    {
     "cell_type": "heading",
     "level": 1,
     "metadata": {
      "slideshow": {
       "slide_type": "slide"
      }
     },
     "source": [
      "Potential Optimization"
     ]
    },
    {
     "cell_type": "markdown",
     "metadata": {},
     "source": [
      "We encounter\n",
      "$$\\frac{(\\sigma - \\sigma^-)^{p - \\beta}}{(p - \\beta)!}\n",
      "(\\tau^+ - \\tau)^{q - \\beta} \\binom{q}{\\beta}$$\n",
      "for various values of $\\sigma, \\sigma^-, \\tau, \\tau^+$ but for a fixed\n",
      "set of choices of $p, q$ (throughout the life of the code).\n",
      "\n",
      "We can write this instead as\n",
      "$$\\frac{q!}{\\beta!} \\frac{(\\sigma - \\sigma^-)^{p - \\beta}}{(p - \\beta)!}\n",
      "\\frac{(\\tau^+ - \\tau)^{q - \\beta}}{(q - \\beta)!}.$$"
     ]
    },
    {
     "cell_type": "markdown",
     "metadata": {
      "slideshow": {
       "slide_type": "slide"
      }
     },
     "source": [
      "<h1 class=\"bigtitle\">Operation Count</h1>"
     ]
    },
    {
     "cell_type": "heading",
     "level": 1,
     "metadata": {
      "slideshow": {
       "slide_type": "slide"
      }
     },
     "source": [
      "Operation Count"
     ]
    },
    {
     "cell_type": "markdown",
     "metadata": {},
     "source": [
      "<ul>\n",
      "<li>Constructing each matrix $A$ at the $\\ell \\to \\ell + 1$ step\n",
      "(for fixed $i, m'$) requires creating $(2M)^2$ matrix entries.</li>\n",
      "<li class=\"fragment\">Each $p, q$ entry in each of the $2 \\times 2$ block submatrices\n",
      "can be constructed in $\\min(p, q)$ hence can be computed in\n",
      "$\\mathcal{O}(M)$.</li>\n",
      "<li class=\"fragment\">Each $A$ is applied to $2$ of the $2^L$ coefficient sets and\n",
      "this applicated requires $\\mathcal{O}\\left((2M)^3\\right)$ operations.</li>\n",
      "<li class=\"fragment\">Thus the total work to convert two of the coefficient sets is\n",
      "$(2M)^2 \\mathcal{O}(M) + \\mathcal{O}\\left((2M)^3\\right) =\n",
      "\\mathcal{O}\\left(M^3\\right)$.</li>\n",
      "</ul>"
     ]
    },
    {
     "cell_type": "heading",
     "level": 1,
     "metadata": {
      "slideshow": {
       "slide_type": "slide"
      }
     },
     "source": [
      "Operation Count"
     ]
    },
    {
     "cell_type": "markdown",
     "metadata": {},
     "source": [
      "<ul>\n",
      "<li>Since we have $2^L / 2 = 2^{L - 1} = \\mathcal{O}(N/2)$ such pairs\n",
      "of coefficient sets, the total work is $\\mathcal{O}\\left(M^3 \\cdot N\n",
      "\\right)$.</li>\n",
      "<li class=\"fragment\">When $M$ &mdash; the max number of terms in the Taylor approximation\n",
      "of the kernel $e^z$ &mdash; is reasonable, the work in\n",
      "$$\\left\\{C(\\alpha, \\ell, i, m)\\right\\}_{\\alpha, i, m} \\rightarrow\n",
      "\\left\\{C(\\alpha, \\ell + 1, i, m)\\right\\}_{\\alpha, i, m}$$\n",
      "is $\\mathcal{O}(N)$.</li>\n",
      "<li class=\"fragment\">Since we only have $L$ steps\n",
      "$$\\ell = 0 \\rightarrow \\ell = 1 \\rightarrow \\cdots \\rightarrow \\ell =\n",
      "L - 1 \\rightarrow \\ell = L$$\n",
      "the total work is $\\mathcal{O}(L \\cdot N)$. As we already mentioned\n",
      "$L = \\mathcal{O}\\left(\\log_2 N\\right)$ hence the total work is\n",
      "$\\boxed{\\mathcal{O}\\left(N \\log N\\right)}$</li>\n",
      "</ul>"
     ]
    },
    {
     "cell_type": "markdown",
     "metadata": {
      "slideshow": {
       "slide_type": "slide"
      }
     },
     "source": [
      "<h1 class=\"bigtitle\">Error Analysis</h1>"
     ]
    },
    {
     "cell_type": "heading",
     "level": 1,
     "metadata": {
      "slideshow": {
       "slide_type": "slide"
      }
     },
     "source": [
      "Error Analysis"
     ]
    },
    {
     "cell_type": "markdown",
     "metadata": {},
     "source": [
      "We have truncated the Taylor series for the kernel in two primary places:\n",
      "$$\\widehat{f}_k \\approx \\sum_m \\sum_{\\alpha = 0}^{M - 1}\n",
      "C\\left(\\alpha, \\ell, i, m\\right)\n",
      "e^{\\sigma(m) (t_k - \\tau(i))} (t_k - \\tau(i))^{\\alpha}$$\n",
      "and\n",
      "$$C^+(\\alpha, \\ell, i', m) \\approx e^{(\\tau^+ - \\tau) \\sigma}\n",
      "\\sum_{\\gamma = \\alpha}^{M - 1} (\\tau^+ - \\tau)^{\\gamma - \\alpha}\n",
      "\\binom{\\gamma}{\\alpha} C(\\gamma, \\ell, i, m).$$\n",
      "We need to understand how these errors propagate through our\n",
      "solution."
     ]
    },
    {
     "cell_type": "markdown",
     "metadata": {
      "slideshow": {
       "slide_type": "slide"
      }
     },
     "source": [
      "<h1 class=\"bigtitle\">Thanks!</h1>"
     ]
    },
    {
     "cell_type": "code",
     "collapsed": false,
     "input": [
      "# Custom styling, borrowed from https://github.com/ellisonbg/talk-2013-scipy\n",
      "\n",
      "import os\n",
      "\n",
      "\n",
      "MAKE_SLIDES = os.getenv('MAKE_BUTTERFLY_SLIDES') == 'True'\n",
      "\n",
      "# Make plots centered. H/T to http://stackoverflow.com/a/27168595/1068170\n",
      "STYLE = \"\"\"\\\n",
      "<style>\n",
      "div.output_area, .ui-wrapper {\n",
      "  margin-left: auto !important;\n",
      "  margin-right: auto !important;\n",
      "}\n",
      "</style>\n",
      "\"\"\"\n",
      "\n",
      "\n",
      "SLIDES_STYLE = \"\"\"\n",
      "<style>\n",
      "\n",
      ".rendered_html {\n",
      "    font-family: \"proxima-nova\", helvetica;\n",
      "    font-size: 150%;\n",
      "    line-height: 1.3;\n",
      "}\n",
      "\n",
      ".rendered_html h1 {\n",
      "    margin: 0.25em 0em 0.5em;\n",
      "    color: #015C9C;\n",
      "    text-align: center;\n",
      "    line-height: 1.2; \n",
      "    page-break-before: always;\n",
      "}\n",
      "\n",
      ".rendered_html h2 {\n",
      "    margin: 1.1em 0em 0.5em;\n",
      "    color: #26465D;\n",
      "    line-height: 1.2;\n",
      "}\n",
      "\n",
      ".rendered_html h3 {\n",
      "    margin: 1.1em 0em 0.5em;\n",
      "    color: #002845;\n",
      "    line-height: 1.2;\n",
      "}\n",
      "\n",
      ".rendered_html li {\n",
      "    line-height: 1.5; \n",
      "}\n",
      "\n",
      ".prompt {\n",
      "    font-size: 120%; \n",
      "}\n",
      "\n",
      ".CodeMirror-lines {\n",
      "    font-size: 120%; \n",
      "}\n",
      "\n",
      ".output_area {\n",
      "    font-size: 120%; \n",
      "}\n",
      "\n",
      "#notebook {\n",
      "    background-image: url('files/images/witewall_3.png');\n",
      "}\n",
      "\n",
      "h1.bigtitle {\n",
      "    margin: 4cm 1cm 4cm 1cm;\n",
      "    font-size: 300%;\n",
      "}\n",
      "\n",
      "h3.point {\n",
      "    font-size: 200%;\n",
      "    text-align: center;\n",
      "    margin: 2em 0em 2em 0em;\n",
      "    #26465D\n",
      "}\n",
      "\n",
      ".logo {\n",
      "    margin: 20px 0 20px 0;\n",
      "}\n",
      "\n",
      "a.anchor-link {\n",
      "    display: none;\n",
      "}\n",
      "\n",
      "h1.title { \n",
      "    font-size: 250%;\n",
      "}\n",
      "\n",
      "</style>\n",
      "\"\"\"\n",
      "\n",
      "if MAKE_SLIDES:\n",
      "    STYLE = STYLE + '\\n' + SLIDES_STYLE\n",
      "\n",
      "\n",
      "from IPython import display\n",
      "display.display(display.HTML(STYLE))"
     ],
     "language": "python",
     "metadata": {
      "slideshow": {
       "slide_type": "notes"
      }
     },
     "outputs": [
      {
       "html": [
        "<style>\n",
        "div.output_area, .ui-wrapper {\n",
        "  margin-left: auto !important;\n",
        "  margin-right: auto !important;\n",
        "}\n",
        "</style>\n",
        "\n",
        "\n",
        "<style>\n",
        "\n",
        ".rendered_html {\n",
        "    font-family: \"proxima-nova\", helvetica;\n",
        "    font-size: 150%;\n",
        "    line-height: 1.3;\n",
        "}\n",
        "\n",
        ".rendered_html h1 {\n",
        "    margin: 0.25em 0em 0.5em;\n",
        "    color: #015C9C;\n",
        "    text-align: center;\n",
        "    line-height: 1.2; \n",
        "    page-break-before: always;\n",
        "}\n",
        "\n",
        ".rendered_html h2 {\n",
        "    margin: 1.1em 0em 0.5em;\n",
        "    color: #26465D;\n",
        "    line-height: 1.2;\n",
        "}\n",
        "\n",
        ".rendered_html h3 {\n",
        "    margin: 1.1em 0em 0.5em;\n",
        "    color: #002845;\n",
        "    line-height: 1.2;\n",
        "}\n",
        "\n",
        ".rendered_html li {\n",
        "    line-height: 1.5; \n",
        "}\n",
        "\n",
        ".prompt {\n",
        "    font-size: 120%; \n",
        "}\n",
        "\n",
        ".CodeMirror-lines {\n",
        "    font-size: 120%; \n",
        "}\n",
        "\n",
        ".output_area {\n",
        "    font-size: 120%; \n",
        "}\n",
        "\n",
        "#notebook {\n",
        "    background-image: url('files/images/witewall_3.png');\n",
        "}\n",
        "\n",
        "h1.bigtitle {\n",
        "    margin: 4cm 1cm 4cm 1cm;\n",
        "    font-size: 300%;\n",
        "}\n",
        "\n",
        "h3.point {\n",
        "    font-size: 200%;\n",
        "    text-align: center;\n",
        "    margin: 2em 0em 2em 0em;\n",
        "    #26465D\n",
        "}\n",
        "\n",
        ".logo {\n",
        "    margin: 20px 0 20px 0;\n",
        "}\n",
        "\n",
        "a.anchor-link {\n",
        "    display: none;\n",
        "}\n",
        "\n",
        "h1.title { \n",
        "    font-size: 250%;\n",
        "}\n",
        "\n",
        "</style>\n"
       ],
       "metadata": {},
       "output_type": "display_data",
       "text": [
        "<IPython.core.display.HTML at 0x7fb42ae11790>"
       ]
      }
     ],
     "prompt_number": 22
    },
    {
     "cell_type": "code",
     "collapsed": false,
     "input": [
      "%%file make_partition_plots.py\n",
      "from matplotlib import pyplot as plt\n",
      "import numpy as np\n",
      "\n",
      "\n",
      "N_exp = 4  # 8 boxes\n",
      "N = 2**N_exp\n",
      "\n",
      "\n",
      "def remove_axis_frame(ax):\n",
      "    ax.set_frame_on(False)\n",
      "    ax.set_xticklabels([])\n",
      "    # H/T: http://stackoverflow.com/a/20416681/1068170\n",
      "    for tic in ax.xaxis.get_major_ticks():\n",
      "        tic.tick1On = tic.tick2On = False\n",
      "    ax.set_yticklabels([])\n",
      "    for tic in ax.yaxis.get_major_ticks():\n",
      "        tic.tick1On = tic.tick2On = False\n",
      "\n",
      "\n",
      "def make_1D_ax_just_s(ax, s_size):\n",
      "    all_s = np.linspace(0, N, s_size + 1)\n",
      "    ax.plot(all_s, 0.5 * N * np.ones(all_s.shape),\n",
      "            color='b', marker='o')\n",
      "    remove_axis_frame(ax)\n",
      "    ax.axis('scaled')\n",
      "    ax.set_xlim(-1, N + 1)\n",
      "    ax.set_ylim(-1, N + 1)\n",
      "\n",
      "\n",
      "def make_1D_ax_just_t(ax, t_size):\n",
      "    all_t = np.linspace(0, N, t_size + 1)\n",
      "    ax.plot(0.5 * N * np.ones(all_t.shape), all_t,\n",
      "            color='b', marker='o')\n",
      "    remove_axis_frame(ax)\n",
      "    ax.axis('scaled')\n",
      "    ax.set_xlim(-1, N + 1)\n",
      "    ax.set_ylim(-1, N + 1)\n",
      "\n",
      "\n",
      "def make_1D_ax_both(ax, ell, t_size, s_size):\n",
      "    ax.set_title(r'$L = %d, \\, \\ell = %d$' % (N_exp, ell))\n",
      "\n",
      "    all_s, all_t = np.linspace(0, N, s_size + 1), np.linspace(0, N, t_size + 1)\n",
      "    # Make all horizontal lines.\n",
      "    for t in all_t:\n",
      "        ax.plot(all_s, t * np.ones(s_size + 1),\n",
      "                color='b', marker='o')\n",
      "    # Make all vertical lines.\n",
      "    for s in all_s:\n",
      "        ax.plot(s * np.ones(t_size + 1), all_t,\n",
      "                color='b', marker='o')\n",
      "\n",
      "    remove_axis_frame(ax)\n",
      "    ax.set_xlabel('$S$')\n",
      "    ax.set_ylabel('$T$', rotation=0)\n",
      "    ax.axis('scaled')\n",
      "    ax.set_xlim(-1, N + 1)\n",
      "    ax.set_ylim(-1, N + 1)\n",
      "\n",
      "\n",
      "def make_1D_example_plot(ell):\n",
      "    rows, cols = 1, 3\n",
      "    fig, (ax1, ax2, ax3) = plt.subplots(rows, cols)\n",
      "\n",
      "    t_size, s_size = 2**ell, 2**(N_exp - ell)\n",
      "    make_1D_ax_just_s(ax1, s_size)\n",
      "    make_1D_ax_both(ax2, ell, t_size, s_size)\n",
      "    make_1D_ax_just_t(ax3, t_size)\n",
      "\n",
      "    width, height = fig.get_size_inches()\n",
      "    fig.set_size_inches(2 * width, 2 * height, forward=True)\n",
      "\n",
      "    plt.show()\n",
      "\n",
      "\n",
      "def make_2D_ax(ax, ell, N_exp=N_exp, title=None):\n",
      "    if title is not None:\n",
      "        ax.set_title(title)\n",
      "\n",
      "    N = 2**N_exp\n",
      "    size = 2**ell\n",
      "\n",
      "    all_pts = np.linspace(0, N, size + 1)\n",
      "    for val in all_pts:\n",
      "        # Make horizontal line.\n",
      "        ax.plot(all_pts, val * np.ones(size + 1),\n",
      "                color='b', marker='o')\n",
      "        # Make vertical line.\n",
      "        ax.plot(val * np.ones(size + 1), all_pts,\n",
      "                color='b', marker='o')\n",
      "\n",
      "    remove_axis_frame(ax)\n",
      "    ax.axis('scaled')\n",
      "    ax.set_xlim(-1, N + 1)\n",
      "    ax.set_ylim(-1, N + 1)\n",
      "\n",
      "\n",
      "def make_2D_arrow(ax, N_exp=N_exp):\n",
      "    N = 2**N_exp\n",
      "    ax.annotate('', (0, 0.5 * N), (N, 0.5 * N),\n",
      "                arrowprops={'arrowstyle':'<->'})\n",
      "    # ax.arrow(\n",
      "    remove_axis_frame(ax)\n",
      "    ax.axis('scaled')\n",
      "    ax.set_xlim(-1, N + 1)\n",
      "    ax.set_ylim(-1, N + 1)\n",
      "\n",
      "\n",
      "def make_2D_example_plot(ell, N_exp=N_exp):\n",
      "    rows, cols = 1, 3\n",
      "    fig, (ax1, ax2, ax3) = plt.subplots(rows, cols)\n",
      "\n",
      "    make_2D_ax(ax1, N_exp - ell, N_exp=N_exp, title='$S$')\n",
      "    make_2D_arrow(ax2, N_exp=N_exp)\n",
      "    make_2D_ax(ax3, ell, N_exp=N_exp, title='$T$')\n",
      "\n",
      "    width, height = fig.get_size_inches()\n",
      "    fig.set_size_inches(2 * width, 2 * height, forward=True)\n",
      "\n",
      "    plt.show()\n"
     ],
     "language": "python",
     "metadata": {
      "slideshow": {
       "slide_type": "skip"
      }
     },
     "outputs": [
      {
       "output_type": "stream",
       "stream": "stdout",
       "text": [
        "Overwriting make_partition_plots.py\n"
       ]
      }
     ],
     "prompt_number": 23
    }
   ],
   "metadata": {}
  }
 ]
}